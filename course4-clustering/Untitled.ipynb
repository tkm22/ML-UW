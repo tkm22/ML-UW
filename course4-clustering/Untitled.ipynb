{
 "cells": [
  {
   "cell_type": "markdown",
   "metadata": {},
   "source": [
    "# operator"
   ]
  },
  {
   "cell_type": "code",
   "execution_count": 34,
   "metadata": {},
   "outputs": [
    {
     "data": {
      "text/plain": [
       "'/Users/stlp/Desktop/Python/data science/course4-clustering'"
      ]
     },
     "execution_count": 34,
     "metadata": {},
     "output_type": "execute_result"
    }
   ],
   "source": [
    "os.getcwd()"
   ]
  },
  {
   "cell_type": "code",
   "execution_count": 31,
   "metadata": {},
   "outputs": [
    {
     "data": {
      "text/plain": [
       "['/Users/stlp/Desktop/Python/data science/course4-clustering',\n",
       " '/Users/stlp/opt/anaconda3/envs/turi/lib/python37.zip',\n",
       " '/Users/stlp/opt/anaconda3/envs/turi/lib/python3.7',\n",
       " '/Users/stlp/opt/anaconda3/envs/turi/lib/python3.7/lib-dynload',\n",
       " '',\n",
       " '/Users/stlp/opt/anaconda3/envs/turi/lib/python3.7/site-packages',\n",
       " '/Users/stlp/opt/anaconda3/envs/turi/lib/python3.7/site-packages/aeosa',\n",
       " '/Users/stlp/opt/anaconda3/envs/turi/lib/python3.7/site-packages/IPython/extensions',\n",
       " '/Users/stlp/.ipython']"
      ]
     },
     "execution_count": 31,
     "metadata": {},
     "output_type": "execute_result"
    }
   ],
   "source": [
    "sys.path"
   ]
  },
  {
   "cell_type": "code",
   "execution_count": 37,
   "metadata": {},
   "outputs": [
    {
     "data": {
      "text/plain": [
       "'scipy'"
      ]
     },
     "execution_count": 37,
     "metadata": {},
     "output_type": "execute_result"
    }
   ],
   "source": [
    "scipy.__name__"
   ]
  },
  {
   "cell_type": "code",
   "execution_count": null,
   "metadata": {},
   "outputs": [],
   "source": []
  }
 ],
 "metadata": {
  "kernelspec": {
   "display_name": "Python 3",
   "language": "python",
   "name": "python3"
  },
  "language_info": {
   "codemirror_mode": {
    "name": "ipython",
    "version": 3
   },
   "file_extension": ".py",
   "mimetype": "text/x-python",
   "name": "python",
   "nbconvert_exporter": "python",
   "pygments_lexer": "ipython3",
   "version": "3.7.6"
  }
 },
 "nbformat": 4,
 "nbformat_minor": 4
}
